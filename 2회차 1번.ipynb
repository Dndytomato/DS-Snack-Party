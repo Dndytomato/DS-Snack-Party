{
 "cells": [
  {
   "cell_type": "code",
   "execution_count": 3,
   "id": "666a1102-0444-4b72-8849-83794b0d5b66",
   "metadata": {},
   "outputs": [
    {
     "data": {
      "text/html": [
       "<div>\n",
       "<style scoped>\n",
       "    .dataframe tbody tr th:only-of-type {\n",
       "        vertical-align: middle;\n",
       "    }\n",
       "\n",
       "    .dataframe tbody tr th {\n",
       "        vertical-align: top;\n",
       "    }\n",
       "\n",
       "    .dataframe thead th {\n",
       "        text-align: right;\n",
       "    }\n",
       "</style>\n",
       "<table border=\"1\" class=\"dataframe\">\n",
       "  <thead>\n",
       "    <tr style=\"text-align: right;\">\n",
       "      <th></th>\n",
       "      <th>REG_NO</th>\n",
       "      <th>GRE</th>\n",
       "      <th>TOEFL</th>\n",
       "      <th>UNIV_RATING</th>\n",
       "      <th>SOP</th>\n",
       "      <th>LOR</th>\n",
       "      <th>CGPA</th>\n",
       "      <th>RESEARCH</th>\n",
       "      <th>ADMIT</th>\n",
       "    </tr>\n",
       "  </thead>\n",
       "  <tbody>\n",
       "    <tr>\n",
       "      <th>0</th>\n",
       "      <td>1</td>\n",
       "      <td>337</td>\n",
       "      <td>118</td>\n",
       "      <td>B</td>\n",
       "      <td>4.5</td>\n",
       "      <td>4.5</td>\n",
       "      <td>9.65</td>\n",
       "      <td>1</td>\n",
       "      <td>Admitted</td>\n",
       "    </tr>\n",
       "    <tr>\n",
       "      <th>1</th>\n",
       "      <td>2</td>\n",
       "      <td>324</td>\n",
       "      <td>107</td>\n",
       "      <td>B</td>\n",
       "      <td>4.0</td>\n",
       "      <td>4.5</td>\n",
       "      <td>8.87</td>\n",
       "      <td>1</td>\n",
       "      <td>Admitted</td>\n",
       "    </tr>\n",
       "    <tr>\n",
       "      <th>2</th>\n",
       "      <td>3</td>\n",
       "      <td>316</td>\n",
       "      <td>104</td>\n",
       "      <td>C</td>\n",
       "      <td>3.0</td>\n",
       "      <td>3.5</td>\n",
       "      <td>8.00</td>\n",
       "      <td>1</td>\n",
       "      <td>Denied</td>\n",
       "    </tr>\n",
       "    <tr>\n",
       "      <th>3</th>\n",
       "      <td>4</td>\n",
       "      <td>322</td>\n",
       "      <td>110</td>\n",
       "      <td>C</td>\n",
       "      <td>3.5</td>\n",
       "      <td>2.5</td>\n",
       "      <td>8.67</td>\n",
       "      <td>1</td>\n",
       "      <td>Admitted</td>\n",
       "    </tr>\n",
       "    <tr>\n",
       "      <th>4</th>\n",
       "      <td>5</td>\n",
       "      <td>314</td>\n",
       "      <td>103</td>\n",
       "      <td>D</td>\n",
       "      <td>2.0</td>\n",
       "      <td>3.0</td>\n",
       "      <td>8.21</td>\n",
       "      <td>0</td>\n",
       "      <td>Denied</td>\n",
       "    </tr>\n",
       "  </tbody>\n",
       "</table>\n",
       "</div>"
      ],
      "text/plain": [
       "   REG_NO  GRE  TOEFL UNIV_RATING  SOP  LOR  CGPA  RESEARCH     ADMIT\n",
       "0       1  337    118           B  4.5  4.5  9.65         1  Admitted\n",
       "1       2  324    107           B  4.0  4.5  8.87         1  Admitted\n",
       "2       3  316    104           C  3.0  3.5  8.00         1    Denied\n",
       "3       4  322    110           C  3.5  2.5  8.67         1  Admitted\n",
       "4       5  314    103           D  2.0  3.0  8.21         0    Denied"
      ]
     },
     "execution_count": 3,
     "metadata": {},
     "output_type": "execute_result"
    }
   ],
   "source": [
    "import pandas as pd\n",
    "import numpy as np\n",
    "df = pd.read_csv(\"lv2-2305-2.csv\")\n",
    "df.head()"
   ]
  },
  {
   "cell_type": "code",
   "execution_count": 9,
   "id": "e692f513-d314-4d1f-a092-f0d95ced7eec",
   "metadata": {},
   "outputs": [],
   "source": [
    "df1 = df.copy()"
   ]
  },
  {
   "cell_type": "code",
   "execution_count": 10,
   "id": "f665059f-842c-4769-8e17-226722fa9088",
   "metadata": {},
   "outputs": [
    {
     "data": {
      "text/html": [
       "<div>\n",
       "<style scoped>\n",
       "    .dataframe tbody tr th:only-of-type {\n",
       "        vertical-align: middle;\n",
       "    }\n",
       "\n",
       "    .dataframe tbody tr th {\n",
       "        vertical-align: top;\n",
       "    }\n",
       "\n",
       "    .dataframe thead th {\n",
       "        text-align: right;\n",
       "    }\n",
       "</style>\n",
       "<table border=\"1\" class=\"dataframe\">\n",
       "  <thead>\n",
       "    <tr style=\"text-align: right;\">\n",
       "      <th></th>\n",
       "      <th>REG_NO</th>\n",
       "      <th>GRE</th>\n",
       "      <th>TOEFL</th>\n",
       "      <th>UNIV_RATING</th>\n",
       "      <th>SOP</th>\n",
       "      <th>LOR</th>\n",
       "      <th>CGPA</th>\n",
       "      <th>RESEARCH</th>\n",
       "      <th>ADMIT</th>\n",
       "    </tr>\n",
       "  </thead>\n",
       "  <tbody>\n",
       "    <tr>\n",
       "      <th>0</th>\n",
       "      <td>1</td>\n",
       "      <td>337</td>\n",
       "      <td>118</td>\n",
       "      <td>B</td>\n",
       "      <td>4.5</td>\n",
       "      <td>4.5</td>\n",
       "      <td>9.65</td>\n",
       "      <td>1</td>\n",
       "      <td>Admitted</td>\n",
       "    </tr>\n",
       "    <tr>\n",
       "      <th>1</th>\n",
       "      <td>2</td>\n",
       "      <td>324</td>\n",
       "      <td>107</td>\n",
       "      <td>B</td>\n",
       "      <td>4.0</td>\n",
       "      <td>4.5</td>\n",
       "      <td>8.87</td>\n",
       "      <td>1</td>\n",
       "      <td>Admitted</td>\n",
       "    </tr>\n",
       "    <tr>\n",
       "      <th>3</th>\n",
       "      <td>4</td>\n",
       "      <td>322</td>\n",
       "      <td>110</td>\n",
       "      <td>C</td>\n",
       "      <td>3.5</td>\n",
       "      <td>2.5</td>\n",
       "      <td>8.67</td>\n",
       "      <td>1</td>\n",
       "      <td>Admitted</td>\n",
       "    </tr>\n",
       "    <tr>\n",
       "      <th>5</th>\n",
       "      <td>6</td>\n",
       "      <td>330</td>\n",
       "      <td>115</td>\n",
       "      <td>A</td>\n",
       "      <td>4.5</td>\n",
       "      <td>3.0</td>\n",
       "      <td>9.34</td>\n",
       "      <td>1</td>\n",
       "      <td>Admitted</td>\n",
       "    </tr>\n",
       "    <tr>\n",
       "      <th>6</th>\n",
       "      <td>7</td>\n",
       "      <td>321</td>\n",
       "      <td>109</td>\n",
       "      <td>C</td>\n",
       "      <td>3.0</td>\n",
       "      <td>4.0</td>\n",
       "      <td>8.20</td>\n",
       "      <td>1</td>\n",
       "      <td>Admitted</td>\n",
       "    </tr>\n",
       "  </tbody>\n",
       "</table>\n",
       "</div>"
      ],
      "text/plain": [
       "   REG_NO  GRE  TOEFL UNIV_RATING  SOP  LOR  CGPA  RESEARCH     ADMIT\n",
       "0       1  337    118           B  4.5  4.5  9.65         1  Admitted\n",
       "1       2  324    107           B  4.0  4.5  8.87         1  Admitted\n",
       "3       4  322    110           C  3.5  2.5  8.67         1  Admitted\n",
       "5       6  330    115           A  4.5  3.0  9.34         1  Admitted\n",
       "6       7  321    109           C  3.0  4.0  8.20         1  Admitted"
      ]
     },
     "execution_count": 10,
     "metadata": {},
     "output_type": "execute_result"
    }
   ],
   "source": [
    "### Step 1-1\n",
    "df1_a = df1[df1[\"ADMIT\"] == \"Admitted\"]\n",
    "df1_d = df1[df1[\"ADMIT\"] == \"Denied\"]\n",
    "df1_a.head()"
   ]
  },
  {
   "cell_type": "code",
   "execution_count": 11,
   "id": "4c23f002-cd71-4ad4-9b13-dc6181e0a8fe",
   "metadata": {},
   "outputs": [
    {
     "data": {
      "text/html": [
       "<div>\n",
       "<style scoped>\n",
       "    .dataframe tbody tr th:only-of-type {\n",
       "        vertical-align: middle;\n",
       "    }\n",
       "\n",
       "    .dataframe tbody tr th {\n",
       "        vertical-align: top;\n",
       "    }\n",
       "\n",
       "    .dataframe thead th {\n",
       "        text-align: right;\n",
       "    }\n",
       "</style>\n",
       "<table border=\"1\" class=\"dataframe\">\n",
       "  <thead>\n",
       "    <tr style=\"text-align: right;\">\n",
       "      <th></th>\n",
       "      <th>REG_NO</th>\n",
       "      <th>GRE</th>\n",
       "      <th>TOEFL</th>\n",
       "      <th>UNIV_RATING</th>\n",
       "      <th>SOP</th>\n",
       "      <th>LOR</th>\n",
       "      <th>CGPA</th>\n",
       "      <th>RESEARCH</th>\n",
       "      <th>ADMIT</th>\n",
       "    </tr>\n",
       "  </thead>\n",
       "  <tbody>\n",
       "    <tr>\n",
       "      <th>2</th>\n",
       "      <td>3</td>\n",
       "      <td>316</td>\n",
       "      <td>104</td>\n",
       "      <td>C</td>\n",
       "      <td>3.0</td>\n",
       "      <td>3.5</td>\n",
       "      <td>8.00</td>\n",
       "      <td>1</td>\n",
       "      <td>Denied</td>\n",
       "    </tr>\n",
       "    <tr>\n",
       "      <th>4</th>\n",
       "      <td>5</td>\n",
       "      <td>314</td>\n",
       "      <td>103</td>\n",
       "      <td>D</td>\n",
       "      <td>2.0</td>\n",
       "      <td>3.0</td>\n",
       "      <td>8.21</td>\n",
       "      <td>0</td>\n",
       "      <td>Denied</td>\n",
       "    </tr>\n",
       "    <tr>\n",
       "      <th>7</th>\n",
       "      <td>8</td>\n",
       "      <td>308</td>\n",
       "      <td>101</td>\n",
       "      <td>D</td>\n",
       "      <td>3.0</td>\n",
       "      <td>4.0</td>\n",
       "      <td>7.90</td>\n",
       "      <td>0</td>\n",
       "      <td>Denied</td>\n",
       "    </tr>\n",
       "    <tr>\n",
       "      <th>8</th>\n",
       "      <td>9</td>\n",
       "      <td>302</td>\n",
       "      <td>102</td>\n",
       "      <td>E</td>\n",
       "      <td>2.0</td>\n",
       "      <td>1.5</td>\n",
       "      <td>8.00</td>\n",
       "      <td>0</td>\n",
       "      <td>Denied</td>\n",
       "    </tr>\n",
       "    <tr>\n",
       "      <th>9</th>\n",
       "      <td>10</td>\n",
       "      <td>323</td>\n",
       "      <td>108</td>\n",
       "      <td>C</td>\n",
       "      <td>3.5</td>\n",
       "      <td>3.0</td>\n",
       "      <td>8.60</td>\n",
       "      <td>0</td>\n",
       "      <td>Denied</td>\n",
       "    </tr>\n",
       "  </tbody>\n",
       "</table>\n",
       "</div>"
      ],
      "text/plain": [
       "   REG_NO  GRE  TOEFL UNIV_RATING  SOP  LOR  CGPA  RESEARCH   ADMIT\n",
       "2       3  316    104           C  3.0  3.5  8.00         1  Denied\n",
       "4       5  314    103           D  2.0  3.0  8.21         0  Denied\n",
       "7       8  308    101           D  3.0  4.0  7.90         0  Denied\n",
       "8       9  302    102           E  2.0  1.5  8.00         0  Denied\n",
       "9      10  323    108           C  3.5  3.0  8.60         0  Denied"
      ]
     },
     "execution_count": 11,
     "metadata": {},
     "output_type": "execute_result"
    }
   ],
   "source": [
    "df1_d.head()"
   ]
  },
  {
   "cell_type": "code",
   "execution_count": 44,
   "id": "88a28a99-b8a1-4682-b30a-6c770bf4825f",
   "metadata": {},
   "outputs": [
    {
     "name": "stdout",
     "output_type": "stream",
     "text": [
      "   REG_NO  GRE  TOEFL UNIV_RATING  SOP  LOR  CGPA  RESEARCH     ADMIT  GRE_R  \\\n",
      "0       1  337    118           B  4.5  4.5  9.65         1  Admitted   16.0   \n",
      "1       2  324    107           B  4.0  4.5  8.87         1  Admitted   97.0   \n",
      "3       4  322    110           C  3.5  2.5  8.67         1  Admitted  120.0   \n",
      "5       6  330    115           A  4.5  3.0  9.34         1  Admitted   51.0   \n",
      "6       7  321    109           C  3.0  4.0  8.20         1  Admitted  131.0   \n",
      "\n",
      "   TOEFL_R  CGPA_R  \n",
      "0     18.0    18.0  \n",
      "1    153.0   126.0  \n",
      "3    109.0   154.0  \n",
      "5     45.0    47.0  \n",
      "6    135.0   179.0  \n",
      "   REG_NO  GRE  TOEFL UNIV_RATING  SOP  LOR  CGPA  RESEARCH   ADMIT  GRE_R  \\\n",
      "2       3  316    104           C  3.0  3.5  8.00         1  Denied   50.0   \n",
      "4       5  314    103           D  2.0  3.0  8.21         0  Denied   71.0   \n",
      "7       8  308    101           D  3.0  4.0  7.90         0  Denied  125.0   \n",
      "8       9  302    102           E  2.0  1.5  8.00         0  Denied  166.0   \n",
      "9      10  323    108           C  3.5  3.0  8.60         0  Denied   15.0   \n",
      "\n",
      "   TOEFL_R  CGPA_R  \n",
      "2    102.0   155.0  \n",
      "4    123.0   114.0  \n",
      "7    150.0   168.0  \n",
      "8    136.0   155.0  \n",
      "9     31.0    39.0  \n"
     ]
    },
    {
     "name": "stderr",
     "output_type": "stream",
     "text": [
      "C:\\Users\\PC\\AppData\\Local\\Temp\\ipykernel_9716\\1869587703.py:2: SettingWithCopyWarning: \n",
      "A value is trying to be set on a copy of a slice from a DataFrame.\n",
      "Try using .loc[row_indexer,col_indexer] = value instead\n",
      "\n",
      "See the caveats in the documentation: https://pandas.pydata.org/pandas-docs/stable/user_guide/indexing.html#returning-a-view-versus-a-copy\n",
      "  df1_a[\"GRE_R\"] = df1_a[\"GRE\"].rank(method='min', ascending=False)\n",
      "C:\\Users\\PC\\AppData\\Local\\Temp\\ipykernel_9716\\1869587703.py:3: SettingWithCopyWarning: \n",
      "A value is trying to be set on a copy of a slice from a DataFrame.\n",
      "Try using .loc[row_indexer,col_indexer] = value instead\n",
      "\n",
      "See the caveats in the documentation: https://pandas.pydata.org/pandas-docs/stable/user_guide/indexing.html#returning-a-view-versus-a-copy\n",
      "  df1_a[\"TOEFL_R\"] = df1_a[\"TOEFL\"].rank(method='min', ascending=False)\n",
      "C:\\Users\\PC\\AppData\\Local\\Temp\\ipykernel_9716\\1869587703.py:4: SettingWithCopyWarning: \n",
      "A value is trying to be set on a copy of a slice from a DataFrame.\n",
      "Try using .loc[row_indexer,col_indexer] = value instead\n",
      "\n",
      "See the caveats in the documentation: https://pandas.pydata.org/pandas-docs/stable/user_guide/indexing.html#returning-a-view-versus-a-copy\n",
      "  df1_a[\"CGPA_R\"] = df1_a[\"CGPA\"].rank(method='min', ascending=False)\n",
      "C:\\Users\\PC\\AppData\\Local\\Temp\\ipykernel_9716\\1869587703.py:6: SettingWithCopyWarning: \n",
      "A value is trying to be set on a copy of a slice from a DataFrame.\n",
      "Try using .loc[row_indexer,col_indexer] = value instead\n",
      "\n",
      "See the caveats in the documentation: https://pandas.pydata.org/pandas-docs/stable/user_guide/indexing.html#returning-a-view-versus-a-copy\n",
      "  df1_d[\"GRE_R\"] = df1_d[\"GRE\"].rank(method='min', ascending=False)\n",
      "C:\\Users\\PC\\AppData\\Local\\Temp\\ipykernel_9716\\1869587703.py:7: SettingWithCopyWarning: \n",
      "A value is trying to be set on a copy of a slice from a DataFrame.\n",
      "Try using .loc[row_indexer,col_indexer] = value instead\n",
      "\n",
      "See the caveats in the documentation: https://pandas.pydata.org/pandas-docs/stable/user_guide/indexing.html#returning-a-view-versus-a-copy\n",
      "  df1_d[\"TOEFL_R\"] = df1_d[\"TOEFL\"].rank(method='min', ascending=False)\n",
      "C:\\Users\\PC\\AppData\\Local\\Temp\\ipykernel_9716\\1869587703.py:8: SettingWithCopyWarning: \n",
      "A value is trying to be set on a copy of a slice from a DataFrame.\n",
      "Try using .loc[row_indexer,col_indexer] = value instead\n",
      "\n",
      "See the caveats in the documentation: https://pandas.pydata.org/pandas-docs/stable/user_guide/indexing.html#returning-a-view-versus-a-copy\n",
      "  df1_d[\"CGPA_R\"] = df1_d[\"CGPA\"].rank(method='min', ascending=False)\n"
     ]
    }
   ],
   "source": [
    "### Step 1-2\n",
    "df1_a[\"GRE_R\"] = df1_a[\"GRE\"].rank(method='min', ascending=False)\n",
    "df1_a[\"TOEFL_R\"] = df1_a[\"TOEFL\"].rank(method='min', ascending=False)\n",
    "df1_a[\"CGPA_R\"] = df1_a[\"CGPA\"].rank(method='min', ascending=False)\n",
    "print(df1_a.head())\n",
    "df1_d[\"GRE_R\"] = df1_d[\"GRE\"].rank(method='min', ascending=False)\n",
    "df1_d[\"TOEFL_R\"] = df1_d[\"TOEFL\"].rank(method='min', ascending=False)\n",
    "df1_d[\"CGPA_R\"] = df1_d[\"CGPA\"].rank(method='min', ascending=False)\n",
    "print(df1_d.head())"
   ]
  },
  {
   "cell_type": "code",
   "execution_count": 46,
   "id": "fc72a473-dae5-49b8-82b7-d75f81f079e2",
   "metadata": {},
   "outputs": [
    {
     "name": "stdout",
     "output_type": "stream",
     "text": [
      "스피어만 상관계수1: 0.78\n",
      "p-value1: 1.2346594088259062e-37\n",
      "스피어만 상관계수2: 0.74\n",
      "p-value2: 2.65633884835193e-32\n"
     ]
    }
   ],
   "source": [
    "### Step 1-3\n",
    "from scipy.stats import spearmanr\n",
    "correlation1, p_value1 = spearmanr(df1_a[\"GRE_R\"], df1_a[\"CGPA_R\"])\n",
    "correlation2, p_value2 = spearmanr(df1_a[\"TOEFL_R\"], df1_a[\"CGPA_R\"])\n",
    "\n",
    "print(f\"스피어만 상관계수1: {correlation1.round(2)}\")\n",
    "print(f\"p-value1: {p_value1}\")\n",
    "print(f\"스피어만 상관계수2: {correlation2.round(2)}\")\n",
    "print(f\"p-value2: {p_value2}\")"
   ]
  },
  {
   "cell_type": "code",
   "execution_count": 41,
   "id": "ecff9095-78df-4b23-bc12-4b6d94923ca2",
   "metadata": {},
   "outputs": [
    {
     "data": {
      "text/plain": [
       "0      165.0\n",
       "1       76.5\n",
       "3       56.0\n",
       "5      127.5\n",
       "6       45.0\n",
       "       ...  \n",
       "394    120.5\n",
       "395     76.5\n",
       "396     88.5\n",
       "397    127.5\n",
       "399    146.5\n",
       "Name: GRE_R, Length: 180, dtype: float64"
      ]
     },
     "execution_count": 41,
     "metadata": {},
     "output_type": "execute_result"
    }
   ],
   "source": [
    "A = correlation1\n",
    "A_VAR = df1_a[\"GRE_R\"]\n",
    "A_VAR"
   ]
  },
  {
   "cell_type": "code",
   "execution_count": 45,
   "id": "194933b1-3a29-4cda-b0e7-0148a9e1b776",
   "metadata": {},
   "outputs": [
    {
     "name": "stdout",
     "output_type": "stream",
     "text": [
      "스피어만 상관계수3: 0.6\n",
      "p-value3: 1.7069327747848276e-22\n",
      "스피어만 상관계수4: 0.62\n",
      "p-value4: 1.918727502244615e-24\n"
     ]
    }
   ],
   "source": [
    "### Step 1-4\n",
    "from scipy.stats import spearmanr\n",
    "correlation3, p_value3 = spearmanr(df1_d[\"GRE_R\"], df1_d[\"CGPA_R\"])\n",
    "correlation4, p_value4 = spearmanr(df1_d[\"TOEFL_R\"], df1_d[\"CGPA_R\"])\n",
    "\n",
    "print(f\"스피어만 상관계수3: {correlation3.round(2)}\")\n",
    "print(f\"p-value3: {p_value3}\")\n",
    "print(f\"스피어만 상관계수4: {correlation4.round(2)}\")\n",
    "print(f\"p-value4: {p_value4}\")"
   ]
  },
  {
   "cell_type": "code",
   "execution_count": 50,
   "id": "9d29862c-3946-4227-8c1f-44dc96b0e310",
   "metadata": {},
   "outputs": [
    {
     "data": {
      "text/plain": [
       "2      155.0\n",
       "4      114.0\n",
       "7      168.0\n",
       "8      155.0\n",
       "9       39.0\n",
       "       ...  \n",
       "387    136.0\n",
       "388    185.0\n",
       "390    107.0\n",
       "391     30.0\n",
       "398     13.0\n",
       "Name: CGPA_R, Length: 220, dtype: float64"
      ]
     },
     "execution_count": 50,
     "metadata": {},
     "output_type": "execute_result"
    }
   ],
   "source": [
    "B = correlation4\n",
    "B_VAR = df1_d[\"CGPA_R\"]\n",
    "B_VAR"
   ]
  },
  {
   "cell_type": "code",
   "execution_count": 52,
   "id": "658ee71f-0856-4125-b99e-5771675a3989",
   "metadata": {},
   "outputs": [
    {
     "data": {
      "text/plain": [
       "np.float64(0.16)"
      ]
     },
     "execution_count": 52,
     "metadata": {},
     "output_type": "execute_result"
    }
   ],
   "source": [
    "abs(A-B).round(2)"
   ]
  },
  {
   "cell_type": "code",
   "execution_count": null,
   "id": "3dc06c0a-107d-4e3e-ad81-3a62694e08be",
   "metadata": {},
   "outputs": [],
   "source": []
  }
 ],
 "metadata": {
  "kernelspec": {
   "display_name": "Python 3 (ipykernel)",
   "language": "python",
   "name": "python3"
  },
  "language_info": {
   "codemirror_mode": {
    "name": "ipython",
    "version": 3
   },
   "file_extension": ".py",
   "mimetype": "text/x-python",
   "name": "python",
   "nbconvert_exporter": "python",
   "pygments_lexer": "ipython3",
   "version": "3.9.13"
  }
 },
 "nbformat": 4,
 "nbformat_minor": 5
}
