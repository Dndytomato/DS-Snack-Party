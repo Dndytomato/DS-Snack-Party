{
 "cells": [
  {
   "cell_type": "code",
   "execution_count": 5,
   "id": "0274dd9f",
   "metadata": {},
   "outputs": [],
   "source": [
    "import pandas as pd\n",
    "import numpy as np"
   ]
  },
  {
   "cell_type": "code",
   "execution_count": 9,
   "id": "e9d4f469",
   "metadata": {
    "scrolled": true
   },
   "outputs": [],
   "source": [
    "df = pd.read_csv(\"lv2-2305-1.csv\")"
   ]
  },
  {
   "cell_type": "code",
   "execution_count": 10,
   "id": "fb04da1a",
   "metadata": {},
   "outputs": [],
   "source": [
    "from sklearn.metrics import r2_score\n",
    "from sklearn.linear_model import LinearRegression\n",
    "import statsmodels.api as sm"
   ]
  },
  {
   "cell_type": "code",
   "execution_count": 36,
   "id": "ded1c0f8",
   "metadata": {},
   "outputs": [],
   "source": [
    "df5=df.copy()"
   ]
  },
  {
   "cell_type": "code",
   "execution_count": 37,
   "id": "162e3f91",
   "metadata": {},
   "outputs": [
    {
     "data": {
      "text/html": [
       "<div>\n",
       "<style scoped>\n",
       "    .dataframe tbody tr th:only-of-type {\n",
       "        vertical-align: middle;\n",
       "    }\n",
       "\n",
       "    .dataframe tbody tr th {\n",
       "        vertical-align: top;\n",
       "    }\n",
       "\n",
       "    .dataframe thead th {\n",
       "        text-align: right;\n",
       "    }\n",
       "</style>\n",
       "<table border=\"1\" class=\"dataframe\">\n",
       "  <thead>\n",
       "    <tr style=\"text-align: right;\">\n",
       "      <th></th>\n",
       "      <th>EMP_ID</th>\n",
       "      <th>NUM_LOGIN</th>\n",
       "      <th>NUM_CONTENTS</th>\n",
       "      <th>NUM_ACTION</th>\n",
       "      <th>TIME_LOGIN</th>\n",
       "      <th>TIME_TEST</th>\n",
       "      <th>NUM_REVISION</th>\n",
       "      <th>SCORE</th>\n",
       "    </tr>\n",
       "  </thead>\n",
       "  <tbody>\n",
       "    <tr>\n",
       "      <th>0</th>\n",
       "      <td>S0001</td>\n",
       "      <td>7</td>\n",
       "      <td>10</td>\n",
       "      <td>57</td>\n",
       "      <td>150</td>\n",
       "      <td>1.95</td>\n",
       "      <td>1</td>\n",
       "      <td>9.77</td>\n",
       "    </tr>\n",
       "    <tr>\n",
       "      <th>1</th>\n",
       "      <td>S0002</td>\n",
       "      <td>7</td>\n",
       "      <td>11</td>\n",
       "      <td>54</td>\n",
       "      <td>144</td>\n",
       "      <td>2.42</td>\n",
       "      <td>10</td>\n",
       "      <td>5.80</td>\n",
       "    </tr>\n",
       "  </tbody>\n",
       "</table>\n",
       "</div>"
      ],
      "text/plain": [
       "  EMP_ID  NUM_LOGIN  NUM_CONTENTS  NUM_ACTION  TIME_LOGIN  TIME_TEST  \\\n",
       "0  S0001          7            10          57         150       1.95   \n",
       "1  S0002          7            11          54         144       2.42   \n",
       "\n",
       "   NUM_REVISION  SCORE  \n",
       "0             1   9.77  \n",
       "1            10   5.80  "
      ]
     },
     "execution_count": 37,
     "metadata": {},
     "output_type": "execute_result"
    }
   ],
   "source": [
    "df5.head(2)"
   ]
  },
  {
   "cell_type": "code",
   "execution_count": 38,
   "id": "7ba7a691",
   "metadata": {},
   "outputs": [],
   "source": [
    "q1 = df5['SCORE'].quantile(0.25)\n",
    "q3 = df5['SCORE'].quantile(0.75)"
   ]
  },
  {
   "cell_type": "code",
   "execution_count": 39,
   "id": "4a358e00",
   "metadata": {},
   "outputs": [
    {
     "data": {
      "text/plain": [
       "(5.38, 7.6899999999999995)"
      ]
     },
     "execution_count": 39,
     "metadata": {},
     "output_type": "execute_result"
    }
   ],
   "source": [
    "q1, q3"
   ]
  },
  {
   "cell_type": "code",
   "execution_count": 40,
   "id": "6bfcbf3a",
   "metadata": {},
   "outputs": [],
   "source": [
    "iqr = q3-q1\n",
    "df5_1 = df5[(df5['SCORE'] >= q1 -1.5*iqr) & (df5['SCORE'] <= q3 + 1.5*iqr)]"
   ]
  },
  {
   "cell_type": "code",
   "execution_count": 41,
   "id": "a77b9559",
   "metadata": {
    "scrolled": true
   },
   "outputs": [
    {
     "data": {
      "text/plain": [
       "0      S0001\n",
       "1      S0002\n",
       "2      S0003\n",
       "3      S0004\n",
       "4      S0005\n",
       "       ...  \n",
       "263    S0264\n",
       "264    S0265\n",
       "265    S0266\n",
       "266    S0267\n",
       "267    S0268\n",
       "Name: EMP_ID, Length: 267, dtype: object"
      ]
     },
     "execution_count": 41,
     "metadata": {},
     "output_type": "execute_result"
    }
   ],
   "source": [
    "df5_1['EMP_ID']"
   ]
  },
  {
   "cell_type": "code",
   "execution_count": 42,
   "id": "c57c1108",
   "metadata": {},
   "outputs": [],
   "source": [
    "train = df5_1[df5_1['EMP_ID'].str[4].astype('int') % 4 != 0]\n",
    "test = df5_1[df5_1['EMP_ID'].str[4].astype('int') % 4 == 0]\n"
   ]
  },
  {
   "cell_type": "code",
   "execution_count": 43,
   "id": "c3810237",
   "metadata": {},
   "outputs": [
    {
     "name": "stdout",
     "output_type": "stream",
     "text": [
      "0.26585408702965907 TIME_LOGIN\n"
     ]
    }
   ],
   "source": [
    "y = train[['SCORE']]\n",
    "max_num = -999\n",
    "f_list= ['NUM_LOGIN', 'NUM_CONTENTS', 'NUM_ACTION', 'TIME_LOGIN', 'TIME_TEST', 'NUM_REVISION']\n",
    "for f in f_list:\n",
    "    x = train[[f]]\n",
    "    lr = LinearRegression()\n",
    "    lr.fit(x,y)\n",
    "    adj_r = 1 - (1-lr.score(x,y))*(len(y)-1)/(len(y)-x.shape[1]-1)\n",
    "    if adj_r > max_num:\n",
    "        max_num = adj_r\n",
    "        max_var = f\n",
    "print(max_num, max_var)    "
   ]
  },
  {
   "cell_type": "code",
   "execution_count": 44,
   "id": "01f39d10",
   "metadata": {},
   "outputs": [
    {
     "name": "stdout",
     "output_type": "stream",
     "text": [
      "0.29674428713721424 NUM_CONTENTS\n"
     ]
    }
   ],
   "source": [
    "y = train[['SCORE']]\n",
    "max_num = -999\n",
    "f_list= ['NUM_LOGIN', 'NUM_CONTENTS', 'NUM_ACTION', 'TIME_TEST', 'NUM_REVISION']\n",
    "for f in f_list:\n",
    "    x = train[[f,'TIME_LOGIN']]\n",
    "    lr = LinearRegression()\n",
    "    lr.fit(x,y)\n",
    "    adj_r = 1 - (1-lr.score(x,y))*(len(y)-1)/(len(y)-x.shape[1]-1)\n",
    "    if adj_r > max_num:\n",
    "        max_num = adj_r\n",
    "        max_var = f\n",
    "print(max_num, max_var)    "
   ]
  },
  {
   "cell_type": "code",
   "execution_count": 46,
   "id": "d5bb2df8",
   "metadata": {},
   "outputs": [
    {
     "name": "stdout",
     "output_type": "stream",
     "text": [
      "0.3265951102870196 NUM_REVISION\n"
     ]
    }
   ],
   "source": [
    "y = train[['SCORE']]\n",
    "max_num = -999\n",
    "f_list= ['NUM_LOGIN', 'NUM_ACTION', 'TIME_TEST', 'NUM_REVISION']\n",
    "for f in f_list:\n",
    "    x = train[[f,'TIME_LOGIN','NUM_CONTENTS']]\n",
    "    lr = LinearRegression()\n",
    "    lr.fit(x,y)\n",
    "    adj_r = 1 - (1-lr.score(x,y))*(len(y)-1)/(len(y)-x.shape[1]-1)\n",
    "    if adj_r > max_num:\n",
    "        max_num = adj_r\n",
    "        max_var = f\n",
    "print(max_num, max_var) "
   ]
  },
  {
   "cell_type": "code",
   "execution_count": 51,
   "id": "a34ca52e",
   "metadata": {},
   "outputs": [
    {
     "name": "stderr",
     "output_type": "stream",
     "text": [
      "C:\\Users\\Hyemin\\AppData\\Local\\Temp\\ipykernel_26044\\492564208.py:10: SettingWithCopyWarning: \n",
      "A value is trying to be set on a copy of a slice from a DataFrame.\n",
      "Try using .loc[row_indexer,col_indexer] = value instead\n",
      "\n",
      "See the caveats in the documentation: https://pandas.pydata.org/pandas-docs/stable/user_guide/indexing.html#returning-a-view-versus-a-copy\n",
      "  test_y.loc[:,'prd'] = lr.predict(test_x)\n"
     ]
    }
   ],
   "source": [
    "from sklearn.metrics import mean_squared_error\n",
    "train_x = train[['TIME_LOGIN', 'NUM_CONTENTS', 'NUM_REVISION']]\n",
    "train_y = train[['SCORE']]\n",
    "test_x = test[['TIME_LOGIN', 'NUM_CONTENTS', 'NUM_REVISION']]\n",
    "test_y = test[['SCORE']]\n",
    "# Sklearn \n",
    "lr = LinearRegression()\n",
    "lr.fit(train_x,train_y)\n",
    "\n",
    "test_y.loc[:,'prd'] = lr.predict(test_x)\n",
    "res = mean_squared_error(test_y['prd'], test_y['SCORE']) **0.5"
   ]
  },
  {
   "cell_type": "code",
   "execution_count": 52,
   "id": "238c7e85",
   "metadata": {},
   "outputs": [
    {
     "data": {
      "text/plain": [
       "1.3919187141780964"
      ]
     },
     "execution_count": 52,
     "metadata": {},
     "output_type": "execute_result"
    }
   ],
   "source": [
    "res"
   ]
  },
  {
   "cell_type": "code",
   "execution_count": null,
   "id": "c64d4793",
   "metadata": {},
   "outputs": [],
   "source": []
  },
  {
   "cell_type": "code",
   "execution_count": null,
   "id": "29ff71a6",
   "metadata": {},
   "outputs": [],
   "source": [
    "#3번\n",
    "#의사결정 나무란 : 나무의 가지(branch)처럼 데이터가 \"예\" 또는 \"아니오\" 같은 질문에 따라 나뉘고, 마지막에는 어떤 결론(예측)에 도달\n",
    "#랜덤포레스트란 : 하나의 트리만 사용하면 그 트리의 성능이 데이터에 너무 의존하게 될 수 있습니다. 여러 개의 트리를 만드는데, 각 트리의 예측 결과를 다수결 투표나 평균을 내어 최종 예측을 만듭니다. 예를 들어, 100개의 트리가 있고 그중 60개가 \"합격\"을 예측하고, 40개가 \"불합격\"을 예측하면, 랜덤포레스트는 \"합격\"을 최종 예측으로 선택합니다."
   ]
  },
  {
   "cell_type": "code",
   "execution_count": 54,
   "id": "170319b8",
   "metadata": {
    "scrolled": false
   },
   "outputs": [],
   "source": [
    "df6 = df.copy()"
   ]
  },
  {
   "cell_type": "code",
   "execution_count": 55,
   "id": "2f9d73b7",
   "metadata": {},
   "outputs": [],
   "source": [
    "# Step 3-1\n",
    "df6_a = df6[df6['SCORE'] <= 5]\n",
    "df6_b = df6[(df6['SCORE'] <=7) & (df6['SCORE']>5)]\n",
    "df6_c = df6[(df6['SCORE'] <=10) & (df6['SCORE']>7)]"
   ]
  },
  {
   "cell_type": "code",
   "execution_count": 56,
   "id": "2e3cdb36",
   "metadata": {},
   "outputs": [
    {
     "data": {
      "text/html": [
       "<div>\n",
       "<style scoped>\n",
       "    .dataframe tbody tr th:only-of-type {\n",
       "        vertical-align: middle;\n",
       "    }\n",
       "\n",
       "    .dataframe tbody tr th {\n",
       "        vertical-align: top;\n",
       "    }\n",
       "\n",
       "    .dataframe thead th {\n",
       "        text-align: right;\n",
       "    }\n",
       "</style>\n",
       "<table border=\"1\" class=\"dataframe\">\n",
       "  <thead>\n",
       "    <tr style=\"text-align: right;\">\n",
       "      <th></th>\n",
       "      <th>EMP_ID</th>\n",
       "      <th>NUM_LOGIN</th>\n",
       "      <th>NUM_CONTENTS</th>\n",
       "      <th>NUM_ACTION</th>\n",
       "      <th>TIME_LOGIN</th>\n",
       "      <th>TIME_TEST</th>\n",
       "      <th>NUM_REVISION</th>\n",
       "      <th>SCORE</th>\n",
       "    </tr>\n",
       "  </thead>\n",
       "  <tbody>\n",
       "    <tr>\n",
       "      <th>0</th>\n",
       "      <td>S0001</td>\n",
       "      <td>7</td>\n",
       "      <td>10</td>\n",
       "      <td>57</td>\n",
       "      <td>150</td>\n",
       "      <td>1.95</td>\n",
       "      <td>1</td>\n",
       "      <td>9.77</td>\n",
       "    </tr>\n",
       "    <tr>\n",
       "      <th>1</th>\n",
       "      <td>S0002</td>\n",
       "      <td>7</td>\n",
       "      <td>11</td>\n",
       "      <td>54</td>\n",
       "      <td>144</td>\n",
       "      <td>2.42</td>\n",
       "      <td>10</td>\n",
       "      <td>5.80</td>\n",
       "    </tr>\n",
       "    <tr>\n",
       "      <th>2</th>\n",
       "      <td>S0003</td>\n",
       "      <td>2</td>\n",
       "      <td>11</td>\n",
       "      <td>21</td>\n",
       "      <td>132</td>\n",
       "      <td>2.14</td>\n",
       "      <td>1</td>\n",
       "      <td>9.77</td>\n",
       "    </tr>\n",
       "    <tr>\n",
       "      <th>3</th>\n",
       "      <td>S0004</td>\n",
       "      <td>10</td>\n",
       "      <td>11</td>\n",
       "      <td>101</td>\n",
       "      <td>350</td>\n",
       "      <td>2.73</td>\n",
       "      <td>7</td>\n",
       "      <td>7.15</td>\n",
       "    </tr>\n",
       "    <tr>\n",
       "      <th>4</th>\n",
       "      <td>S0005</td>\n",
       "      <td>4</td>\n",
       "      <td>11</td>\n",
       "      <td>35</td>\n",
       "      <td>93</td>\n",
       "      <td>1.61</td>\n",
       "      <td>5</td>\n",
       "      <td>5.28</td>\n",
       "    </tr>\n",
       "  </tbody>\n",
       "</table>\n",
       "</div>"
      ],
      "text/plain": [
       "  EMP_ID  NUM_LOGIN  NUM_CONTENTS  NUM_ACTION  TIME_LOGIN  TIME_TEST  \\\n",
       "0  S0001          7            10          57         150       1.95   \n",
       "1  S0002          7            11          54         144       2.42   \n",
       "2  S0003          2            11          21         132       2.14   \n",
       "3  S0004         10            11         101         350       2.73   \n",
       "4  S0005          4            11          35          93       1.61   \n",
       "\n",
       "   NUM_REVISION  SCORE  \n",
       "0             1   9.77  \n",
       "1            10   5.80  \n",
       "2             1   9.77  \n",
       "3             7   7.15  \n",
       "4             5   5.28  "
      ]
     },
     "execution_count": 56,
     "metadata": {},
     "output_type": "execute_result"
    }
   ],
   "source": [
    "df6.head()"
   ]
  },
  {
   "cell_type": "code",
   "execution_count": 57,
   "id": "96d92747",
   "metadata": {},
   "outputs": [],
   "source": [
    "from sklearn.ensemble import RandomForestRegressor\n",
    "\n",
    "# Step 3-2\n",
    "rf_a = RandomForestRegressor(random_state=1234, n_estimators = 10, min_samples_leaf = 10)\n",
    "rf_b = RandomForestRegressor(random_state=1234, n_estimators = 10, min_samples_leaf = 10)\n",
    "rf_c = RandomForestRegressor(random_state=1234, n_estimators = 10, min_samples_leaf= 10)\n",
    "\n",
    "train_a_y = df6_a['SCORE']\n",
    "train_a_x = df6_a.drop(columns=['EMP_ID','SCORE'])\n",
    "\n",
    "train_b_y = df6_b['SCORE']\n",
    "train_b_x = df6_b.drop(columns=['EMP_ID','SCORE'])\n",
    "\n",
    "train_c_y = df6_c['SCORE']\n",
    "train_c_x = df6_c.drop(columns=['EMP_ID','SCORE'])\n",
    "\n",
    "\n",
    "#3-3\n",
    "\n",
    "rf_a.fit(train_a_x, train_a_y)\n",
    "a_fi = rf_a.feature_importances_\n",
    "\n",
    "rf_b.fit(train_b_x, train_b_y)\n",
    "b_fi = rf_b.feature_importances_\n",
    "\n",
    "rf_c.fit(train_c_x, train_c_y)\n",
    "c_fi = rf_c.feature_importances_"
   ]
  },
  {
   "cell_type": "code",
   "execution_count": 15,
   "id": "0f6eba4d",
   "metadata": {},
   "outputs": [],
   "source": [
    "# Step 3-3 Compare Feature Importance "
   ]
  },
  {
   "cell_type": "code",
   "execution_count": 61,
   "id": "652cbbfa",
   "metadata": {},
   "outputs": [
    {
     "data": {
      "text/html": [
       "<div>\n",
       "<style scoped>\n",
       "    .dataframe tbody tr th:only-of-type {\n",
       "        vertical-align: middle;\n",
       "    }\n",
       "\n",
       "    .dataframe tbody tr th {\n",
       "        vertical-align: top;\n",
       "    }\n",
       "\n",
       "    .dataframe thead th {\n",
       "        text-align: right;\n",
       "    }\n",
       "</style>\n",
       "<table border=\"1\" class=\"dataframe\">\n",
       "  <thead>\n",
       "    <tr style=\"text-align: right;\">\n",
       "      <th></th>\n",
       "      <th>NUM_LOGIN</th>\n",
       "      <th>NUM_CONTENTS</th>\n",
       "      <th>NUM_ACTION</th>\n",
       "      <th>TIME_LOGIN</th>\n",
       "      <th>TIME_TEST</th>\n",
       "      <th>NUM_REVISION</th>\n",
       "    </tr>\n",
       "  </thead>\n",
       "  <tbody>\n",
       "    <tr>\n",
       "      <th>8</th>\n",
       "      <td>9</td>\n",
       "      <td>11</td>\n",
       "      <td>64</td>\n",
       "      <td>91</td>\n",
       "      <td>2.53</td>\n",
       "      <td>13</td>\n",
       "    </tr>\n",
       "    <tr>\n",
       "      <th>10</th>\n",
       "      <td>2</td>\n",
       "      <td>2</td>\n",
       "      <td>16</td>\n",
       "      <td>28</td>\n",
       "      <td>1.73</td>\n",
       "      <td>10</td>\n",
       "    </tr>\n",
       "    <tr>\n",
       "      <th>16</th>\n",
       "      <td>10</td>\n",
       "      <td>11</td>\n",
       "      <td>93</td>\n",
       "      <td>144</td>\n",
       "      <td>2.26</td>\n",
       "      <td>17</td>\n",
       "    </tr>\n",
       "    <tr>\n",
       "      <th>19</th>\n",
       "      <td>4</td>\n",
       "      <td>1</td>\n",
       "      <td>22</td>\n",
       "      <td>58</td>\n",
       "      <td>2.24</td>\n",
       "      <td>2</td>\n",
       "    </tr>\n",
       "    <tr>\n",
       "      <th>20</th>\n",
       "      <td>1</td>\n",
       "      <td>1</td>\n",
       "      <td>5</td>\n",
       "      <td>10</td>\n",
       "      <td>1.00</td>\n",
       "      <td>0</td>\n",
       "    </tr>\n",
       "  </tbody>\n",
       "</table>\n",
       "</div>"
      ],
      "text/plain": [
       "    NUM_LOGIN  NUM_CONTENTS  NUM_ACTION  TIME_LOGIN  TIME_TEST  NUM_REVISION\n",
       "8           9            11          64          91       2.53            13\n",
       "10          2             2          16          28       1.73            10\n",
       "16         10            11          93         144       2.26            17\n",
       "19          4             1          22          58       2.24             2\n",
       "20          1             1           5          10       1.00             0"
      ]
     },
     "execution_count": 61,
     "metadata": {},
     "output_type": "execute_result"
    }
   ],
   "source": [
    "train_a_x.head()"
   ]
  },
  {
   "cell_type": "code",
   "execution_count": 16,
   "id": "fceb674c",
   "metadata": {},
   "outputs": [
    {
     "data": {
      "text/plain": [
       "array([0.1       , 0.28329769, 0.6       , 0.        , 0.        ,\n",
       "       0.01670231])"
      ]
     },
     "execution_count": 16,
     "metadata": {},
     "output_type": "execute_result"
    }
   ],
   "source": [
    "a_fi"
   ]
  },
  {
   "cell_type": "code",
   "execution_count": 17,
   "id": "accf06ba",
   "metadata": {},
   "outputs": [
    {
     "data": {
      "text/plain": [
       "array([0.02380331, 0.00271996, 0.03890917, 0.74317753, 0.16952741,\n",
       "       0.02186262])"
      ]
     },
     "execution_count": 17,
     "metadata": {},
     "output_type": "execute_result"
    }
   ],
   "source": [
    "b_fi"
   ]
  },
  {
   "cell_type": "code",
   "execution_count": 18,
   "id": "a86bfc1b",
   "metadata": {
    "scrolled": true
   },
   "outputs": [
    {
     "data": {
      "text/plain": [
       "array([0.        , 0.0074127 , 0.17934068, 0.10480842, 0.6058609 ,\n",
       "       0.1025773 ])"
      ]
     },
     "execution_count": 18,
     "metadata": {},
     "output_type": "execute_result"
    }
   ],
   "source": [
    "c_fi"
   ]
  },
  {
   "cell_type": "code",
   "execution_count": 63,
   "id": "effd0d54",
   "metadata": {},
   "outputs": [
    {
     "data": {
      "text/plain": [
       "(2, 3, 4)"
      ]
     },
     "execution_count": 63,
     "metadata": {},
     "output_type": "execute_result"
    }
   ],
   "source": [
    "import numpy as np\n",
    "\n",
    "np.argmax(a_fi), np.argmax(b_fi), np.argmax(c_fi)"
   ]
  },
  {
   "cell_type": "code",
   "execution_count": 19,
   "id": "ead89b12",
   "metadata": {},
   "outputs": [],
   "source": [
    "res = a_fi.max() + b_fi.max() + c_fi.max()"
   ]
  },
  {
   "cell_type": "code",
   "execution_count": 20,
   "id": "a2839ccd",
   "metadata": {},
   "outputs": [
    {
     "name": "stdout",
     "output_type": "stream",
     "text": [
      "Q3 Result: 1.9490384300673917\n",
      "Q3 Answer: 1.95\n"
     ]
    }
   ],
   "source": [
    "print('Q3 Result:', res)\n",
    "print('Q3 Answer:', round(res, 2))"
   ]
  },
  {
   "cell_type": "code",
   "execution_count": null,
   "id": "dc6b66e2",
   "metadata": {},
   "outputs": [],
   "source": [
    "\n",
    "\n"
   ]
  }
 ],
 "metadata": {
  "kernelspec": {
   "display_name": "Python 3 (ipykernel)",
   "language": "python",
   "name": "python3"
  },
  "language_info": {
   "codemirror_mode": {
    "name": "ipython",
    "version": 3
   },
   "file_extension": ".py",
   "mimetype": "text/x-python",
   "name": "python",
   "nbconvert_exporter": "python",
   "pygments_lexer": "ipython3",
   "version": "3.11.5"
  }
 },
 "nbformat": 4,
 "nbformat_minor": 5
}
